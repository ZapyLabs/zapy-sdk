{
 "cells": [
  {
   "cell_type": "code",
   "execution_count": null,
   "metadata": {},
   "outputs": [],
   "source": [
    "from zapy.requests import ZapyRequest, KeyValueItem\n",
    "from zapy.utils import module\n",
    "if __name__ == '__main__':\n",
    "    setup_store = await module.load_python('../setup/setup_store.py')"
   ]
  },
  {
   "cell_type": "code",
   "execution_count": null,
   "metadata": {},
   "outputs": [],
   "source": [
    "request = ZapyRequest(\n",
    "    endpoint=\"https://echo.hoppscotch.io/\",\n",
    "    method=\"GET\",\n",
    "    params=[\n",
    "        KeyValueItem(key='param1', value='{{ ctx.store.test_2 }}', active=True),\n",
    "    ],\n",
    "    script=[\n",
    "        'import unittest',\n",
    "\n",
    "        '@ctx.hooks.test',\n",
    "        'class TestStringMethods(unittest.TestCase):',\n",
    "        '    def test_error(self):',\n",
    "        '        self.assertEqual(\"foo\".upper(), \"will raise an error\")',\n",
    "    ]\n",
    ")\n",
    "response = await request.send()\n",
    "response.json()"
   ]
  }
 ],
 "metadata": {
  "kernelspec": {
   "display_name": ".venvzapy",
   "language": "python",
   "name": "python3"
  },
  "language_info": {
   "codemirror_mode": {
    "name": "ipython",
    "version": 3
   },
   "file_extension": ".py",
   "mimetype": "text/x-python",
   "name": "python",
   "nbconvert_exporter": "python",
   "pygments_lexer": "ipython3",
   "version": "3.11.6"
  },
  "orig_nbformat": 4
 },
 "nbformat": 4,
 "nbformat_minor": 2
}
