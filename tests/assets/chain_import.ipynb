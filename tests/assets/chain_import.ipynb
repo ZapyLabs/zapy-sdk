{
 "cells": [
  {
   "cell_type": "code",
   "execution_count": 2,
   "metadata": {},
   "outputs": [],
   "source": [
    "from zapy import requests\n",
    "from zapy.utils import module\n",
    "from pathlib import Path\n",
    "if __name__ == '__main__':\n",
    "    setup_store = module.load_module('./setup')\n",
    "    rel_path = Path().resolve()"
   ]
  },
  {
   "cell_type": "code",
   "execution_count": 3,
   "metadata": {},
   "outputs": [
    {
     "name": "stdout",
     "output_type": "stream",
     "text": [
      "pre_request\n",
      "GET: https://echo.hoppscotch.io/{{var1}} None set: foo\n"
     ]
    },
    {
     "data": {
      "text/plain": [
       "{'method': 'GET',\n",
       " 'args': {'key1': 'test_key_1', 'key2': 'test_key_2'},\n",
       " 'data': 'ewoKaG9sYTogIiJzYWRmZCIiCgp9',\n",
       " 'headers': {'cdn-loop': 'netlify',\n",
       "  'content-length': '21',\n",
       "  'host': 'echo.hoppscotch.io',\n",
       "  'x-country': 'PE',\n",
       "  'x-forwarded-for': '181.67.74.241',\n",
       "  'x-forwarded-proto': 'https',\n",
       "  'x-nf-account-id': '5e2b91527eb7a24fb0054390',\n",
       "  'x-nf-client-connection-ip': '181.67.74.241',\n",
       "  'x-nf-deploy-id': '626b1bc6a7f6c1000902602e',\n",
       "  'x-nf-geo': 'eyJjaXR5IjoiTGltYSIsImNvdW50cnkiOnsiY29kZSI6IlBFIiwibmFtZSI6IlBlcnUifSwic3ViZGl2aXNpb24iOnsiY29kZSI6IkxNQSIsIm5hbWUiOiJMaW1hIn0sInRpbWV6b25lIjoiQW1lcmljYS9MaW1hIiwibGF0aXR1ZGUiOi0xMi4wNDMyLCJsb25naXR1ZGUiOi03Ny4wMjgyfQ==',\n",
       "  'x-nf-request-id': '01HA3MQRQ7X6PQTQAE04Z1NNHQ',\n",
       "  'x-nf-site-id': '5d797a9d-fe11-4582-8837-9986a4673158'},\n",
       " 'path': '/\"welcome\"',\n",
       " 'isBase64Encoded': True}"
      ]
     },
     "execution_count": 3,
     "metadata": {},
     "output_type": "execute_result"
    }
   ],
   "source": [
    "request = requests.from_path(rel_path / 'request1.zapy')\n",
    "response = await request.send()\n",
    "response.json()"
   ]
  },
  {
   "cell_type": "code",
   "execution_count": 4,
   "metadata": {},
   "outputs": [
    {
     "name": "stdout",
     "output_type": "stream",
     "text": [
      "GET: https://echo.hoppscotch.io/{{var1}} None get: foo\n",
      "pre_request\n",
      "post_request\n"
     ]
    },
    {
     "data": {
      "text/plain": [
       "{'method': 'GET',\n",
       " 'args': {'key1': 'test_key_1', 'key2': 'from_req_1'},\n",
       " 'data': 'ewoKaG9sYTogImZyb21fcmVxXzEiCgp9',\n",
       " 'headers': {'cdn-loop': 'netlify',\n",
       "  'content-length': '24',\n",
       "  'host': 'echo.hoppscotch.io',\n",
       "  'x-country': 'PE',\n",
       "  'x-forwarded-for': '181.67.74.241',\n",
       "  'x-forwarded-proto': 'https',\n",
       "  'x-nf-account-id': '5e2b91527eb7a24fb0054390',\n",
       "  'x-nf-client-connection-ip': '181.67.74.241',\n",
       "  'x-nf-deploy-id': '626b1bc6a7f6c1000902602e',\n",
       "  'x-nf-geo': 'eyJjaXR5IjoiTGltYSIsImNvdW50cnkiOnsiY29kZSI6IlBFIiwibmFtZSI6IlBlcnUifSwic3ViZGl2aXNpb24iOnsiY29kZSI6IkxNQSIsIm5hbWUiOiJMaW1hIn0sInRpbWV6b25lIjoiQW1lcmljYS9MaW1hIiwibGF0aXR1ZGUiOi0xMi4wNDMyLCJsb25naXR1ZGUiOi03Ny4wMjgyfQ==',\n",
       "  'x-nf-request-id': '01HA3MQSC3Y9HP4794527Q4X6S',\n",
       "  'x-nf-site-id': '5d797a9d-fe11-4582-8837-9986a4673158'},\n",
       " 'path': '/\"welcome\"',\n",
       " 'isBase64Encoded': True}"
      ]
     },
     "execution_count": 4,
     "metadata": {},
     "output_type": "execute_result"
    }
   ],
   "source": [
    "request = requests.from_path(rel_path / 'request2.zapy')\n",
    "response = await request.send()\n",
    "response.json()"
   ]
  },
  {
   "cell_type": "code",
   "execution_count": 5,
   "metadata": {},
   "outputs": [],
   "source": [
    "out_response = response.json()"
   ]
  }
 ],
 "metadata": {
  "kernelspec": {
   "display_name": "my_kernel",
   "language": "python",
   "name": "my_kernel"
  },
  "language_info": {
   "codemirror_mode": {
    "name": "ipython",
    "version": 3
   },
   "file_extension": ".py",
   "mimetype": "text/x-python",
   "name": "python",
   "nbconvert_exporter": "python",
   "pygments_lexer": "ipython3",
   "version": "3.11.4"
  },
  "orig_nbformat": 4
 },
 "nbformat": 4,
 "nbformat_minor": 2
}
